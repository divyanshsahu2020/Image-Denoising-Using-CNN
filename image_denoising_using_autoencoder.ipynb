{
  "nbformat": 4,
  "nbformat_minor": 0,
  "metadata": {
    "colab": {
      "provenance": []
    },
    "kernelspec": {
      "name": "python3",
      "display_name": "Python 3"
    },
    "language_info": {
      "name": "python"
    }
  },
  "cells": [
    {
      "cell_type": "code",
      "source": [
        "from IPython.display import Image\n",
        "from PIL import Image\n",
        "import matplotlib.pyplot as plt\n",
        "from tensorflow.keras.models import Model\n",
        "from tensorflow.keras.layers import Input, Conv2D, MaxPooling2D, Concatenate\n",
        "import os\n",
        "import cv2\n",
        "import numpy as np\n",
        "from sklearn.model_selection import train_test_split\n",
        "from tensorflow.keras.preprocessing.image import ImageDataGenerator\n",
        "from tensorflow.keras.optimizers import Adam\n",
        "from tensorflow.keras.losses import MeanSquaredError\n",
        "import tensorflow as tf\n"
      ],
      "metadata": {
        "id": "uTX6Ce7TSQvi"
      },
      "execution_count": null,
      "outputs": []
    },
    {
      "cell_type": "code",
      "source": [
        "from tensorflow.keras.datasets import fashion_mnist\n"
      ],
      "metadata": {
        "id": "L7swHJiG_Uol"
      },
      "execution_count": null,
      "outputs": []
    },
    {
      "cell_type": "code",
      "source": [
        "(train_images, _), (test_images, _) = fashion_mnist.load_data()\n",
        "train_images = train_images.astype('float32') / 255.0\n",
        "test_images = test_images.astype('float32') / 255.0\n"
      ],
      "metadata": {
        "colab": {
          "base_uri": "https://localhost:8080/"
        },
        "id": "6n1fXbrdCOaQ",
        "outputId": "543feaf2-24a1-4c8d-d6fe-539f00efbb71"
      },
      "execution_count": null,
      "outputs": [
        {
          "output_type": "stream",
          "name": "stdout",
          "text": [
            "Downloading data from https://storage.googleapis.com/tensorflow/tf-keras-datasets/train-labels-idx1-ubyte.gz\n",
            "29515/29515 [==============================] - 0s 0us/step\n",
            "Downloading data from https://storage.googleapis.com/tensorflow/tf-keras-datasets/train-images-idx3-ubyte.gz\n",
            "26421880/26421880 [==============================] - 0s 0us/step\n",
            "Downloading data from https://storage.googleapis.com/tensorflow/tf-keras-datasets/t10k-labels-idx1-ubyte.gz\n",
            "5148/5148 [==============================] - 0s 0us/step\n",
            "Downloading data from https://storage.googleapis.com/tensorflow/tf-keras-datasets/t10k-images-idx3-ubyte.gz\n",
            "4422102/4422102 [==============================] - 0s 0us/step\n"
          ]
        }
      ]
    },
    {
      "cell_type": "code",
      "source": [
        "import matplotlib.pyplot as plt\n",
        "import random\n",
        "# Select the image index to display\n",
        "image_index = random.randint(0, len(train_images) - 1)\n",
        "\n",
        "# Display the image from the test set\n",
        "plt.imshow(train_images[image_index], cmap='gray')\n",
        "plt.axis('off')  # Remove axis labels\n",
        "plt.show()"
      ],
      "metadata": {
        "colab": {
          "base_uri": "https://localhost:8080/",
          "height": 406
        },
        "id": "JvgM1lQwbyOQ",
        "outputId": "05b004fe-250b-4efa-dc92-d57f4bf6c312"
      },
      "execution_count": null,
      "outputs": [
        {
          "output_type": "display_data",
          "data": {
            "text/plain": [
              "<Figure size 640x480 with 1 Axes>"
            ],
            "image/png": "[encoded data removed]"
          },
          "metadata": {}
        }
      ]
    },
    {
      "cell_type": "code",
      "source": [
        "noise_factor = 0.5\n",
        "train_images_noisy = train_images + noise_factor * np.random.normal(loc=0.0, scale=1.0, size=train_images.shape)\n",
        "train_images_noisy = np.clip(train_images_noisy, 0., 1.)"
      ],
      "metadata": {
        "id": "FwFy1bBTDMkd"
      },
      "execution_count": null,
      "outputs": []
    },
    {
      "cell_type": "code",
      "source": [
        "import matplotlib.pyplot as plt\n",
        "import random\n",
        "# Select the image index to display\n",
        "image_index = random.randint(0, len(test_images) - 1)\n",
        "\n",
        "# Display the image from the test set\n",
        "plt.imshow(test_images[image_index], cmap='gray')\n",
        "plt.axis('off')  # Remove axis labels\n",
        "plt.show()"
      ],
      "metadata": {
        "colab": {
          "base_uri": "https://localhost:8080/",
          "height": 406
        },
        "id": "AP6H7hxvbYJb",
        "outputId": "a6c4e21a-1792-4231-d0b6-4f06c073cde6"
      },
      "execution_count": null,
      "outputs": [
        {
          "output_type": "display_data",
          "data": {
            "text/plain": [
              "<Figure size 640x480 with 1 Axes>"
            ],
            "image/png": "[encoded data removed]"
          },
          "metadata": {}
        }
      ]
    },
    {
      "cell_type": "code",
      "source": [
        "input_shape = (28, 28, 1)\n",
        "latent_dim = 64"
      ],
      "metadata": {
        "id": "cGBm_2t1Fer5"
      },
      "execution_count": null,
      "outputs": []
    },
    {
      "cell_type": "code",
      "source": [
        "encoder_input = Input(shape=input_shape)\n",
        "x = Conv2D(16, (3, 3), activation='relu', padding='same')(encoder_input)\n",
        "x = MaxPooling2D((2, 2), padding='same')(x)\n",
        "x = Conv2D(8, (3, 3), activation='relu', padding='same')(x)\n",
        "x = MaxPooling2D((2, 2), padding='same')(x)\n",
        "x = Conv2D(8, (3, 3), activation='relu', padding='same')(x)\n",
        "encoder_output = MaxPooling2D((2, 2), padding='same')(x)"
      ],
      "metadata": {
        "id": "_UqnyUVTHuWO"
      },
      "execution_count": null,
      "outputs": []
    },
    {
      "cell_type": "code",
      "source": [
        "from tensorflow.keras.layers import UpSampling2D\n",
        "# Decoder\n",
        "x = Conv2D(8, (3, 3), activation='relu', padding='same')(encoder_output)\n",
        "x = UpSampling2D((2, 2))(x)\n",
        "x = Conv2D(8, (3, 3), activation='relu', padding='same')(x)\n",
        "x = UpSampling2D((2, 2))(x)\n",
        "x = Conv2D(16, (3, 3), activation='relu')(x)\n",
        "x = UpSampling2D((2, 2))(x)\n",
        "decoder_output = Conv2D(1, (3, 3), activation='sigmoid', padding='same')(x)"
      ],
      "metadata": {
        "id": "FZ-nmok6U95a"
      },
      "execution_count": null,
      "outputs": []
    },
    {
      "cell_type": "code",
      "source": [
        "# Create the autoencoder model\n",
        "autoencoder = Model(encoder_input, decoder_output)\n",
        "\n",
        "# Compile the autoencoder model\n",
        "autoencoder.compile(optimizer=Adam(), loss=MeanSquaredError())\n",
        "\n",
        "# Print the autoencoder summary\n",
        "autoencoder.summary()"
      ],
      "metadata": {
        "colab": {
          "base_uri": "https://localhost:8080/"
        },
        "id": "qzgc_pzFVOUE",
        "outputId": "558fb0e8-00a0-496a-932a-4411cb75af4a"
      },
      "execution_count": null,
      "outputs": [
        {
          "output_type": "stream",
          "name": "stdout",
          "text": [
            "Model: \"model\"\n",
            "_________________________________________________________________\n",
            " Layer (type)                Output Shape              Param #   \n",
            "=================================================================\n",
            " input_1 (InputLayer)        [(None, 28, 28, 1)]       0         \n",
            "                                                                 \n",
            " conv2d (Conv2D)             (None, 28, 28, 16)        160       \n",
            "                                                                 \n",
            " max_pooling2d (MaxPooling2D  (None, 14, 14, 16)       0         \n",
            " )                                                               \n",
            "                                                                 \n",
            " conv2d_1 (Conv2D)           (None, 14, 14, 8)         1160      \n",
            "                                                                 \n",
            " max_pooling2d_1 (MaxPooling  (None, 7, 7, 8)          0         \n",
            " 2D)                                                             \n",
            "                                                                 \n",
            " conv2d_2 (Conv2D)           (None, 7, 7, 8)           584       \n",
            "                                                                 \n",
            " max_pooling2d_2 (MaxPooling  (None, 4, 4, 8)          0         \n",
            " 2D)                                                             \n",
            "                                                                 \n",
            " conv2d_4 (Conv2D)           (None, 4, 4, 8)           584       \n",
            "                                                                 \n",
            " up_sampling2d (UpSampling2D  (None, 8, 8, 8)          0         \n",
            " )                                                               \n",
            "                                                                 \n",
            " conv2d_5 (Conv2D)           (None, 8, 8, 8)           584       \n",
            "                                                                 \n",
            " up_sampling2d_1 (UpSampling  (None, 16, 16, 8)        0         \n",
            " 2D)                                                             \n",
            "                                                                 \n",
            " conv2d_6 (Conv2D)           (None, 14, 14, 16)        1168      \n",
            "                                                                 \n",
            " up_sampling2d_2 (UpSampling  (None, 28, 28, 16)       0         \n",
            " 2D)                                                             \n",
            "                                                                 \n",
            " conv2d_7 (Conv2D)           (None, 28, 28, 1)         145       \n",
            "                                                                 \n",
            "=================================================================\n",
            "Total params: 4,385\n",
            "Trainable params: 4,385\n",
            "Non-trainable params: 0\n",
            "_________________________________________________________________\n"
          ]
        }
      ]
    },
    {
      "cell_type": "code",
      "source": [
        "# Train the autoencoder\n",
        "# Train the autoencoder\n",
        "autoencoder.fit(train_images_noisy, train_images, epochs=10, batch_size=128, validation_data=(test_images, test_images))\n"
      ],
      "metadata": {
        "colab": {
          "base_uri": "https://localhost:8080/"
        },
        "id": "Qp4G6c_4Vtnw",
        "outputId": "25157758-871d-49e3-d0dc-039d48c96e17"
      },
      "execution_count": null,
      "outputs": [
        {
          "output_type": "stream",
          "name": "stdout",
          "text": [
            "Epoch 1/10\n",
            "469/469 [==============================] - 97s 204ms/step - loss: 0.0469 - val_loss: 0.0345\n",
            "Epoch 2/10\n",
            "469/469 [==============================] - 93s 199ms/step - loss: 0.0279 - val_loss: 0.0350\n",
            "Epoch 3/10\n",
            "469/469 [==============================] - 94s 201ms/step - loss: 0.0261 - val_loss: 0.0357\n",
            "Epoch 4/10\n",
            "469/469 [==============================] - 93s 199ms/step - loss: 0.0252 - val_loss: 0.0336\n",
            "Epoch 5/10\n",
            "469/469 [==============================] - 94s 200ms/step - loss: 0.0245 - val_loss: 0.0358\n",
            "Epoch 6/10\n",
            "469/469 [==============================] - 93s 198ms/step - loss: 0.0240 - val_loss: 0.0358\n",
            "Epoch 7/10\n",
            "469/469 [==============================] - 93s 199ms/step - loss: 0.0236 - val_loss: 0.0356\n",
            "Epoch 8/10\n",
            "469/469 [==============================] - 93s 198ms/step - loss: 0.0231 - val_loss: 0.0324\n",
            "Epoch 9/10\n",
            "469/469 [==============================] - 93s 198ms/step - loss: 0.0228 - val_loss: 0.0323\n",
            "Epoch 10/10\n",
            "469/469 [==============================] - 93s 198ms/step - loss: 0.0225 - val_loss: 0.0335\n"
          ]
        },
        {
          "output_type": "execute_result",
          "data": {
            "text/plain": [
              "<keras.callbacks.History at 0x7fd2bc322200>"
            ]
          },
          "metadata": {},
          "execution_count": 12
        }
      ]
    },
    {
      "cell_type": "code",
      "source": [
        "# Select an image from the test set\n",
        "import random\n",
        "image_index = random.randint(0, len(test_images) - 1)\n",
        "input_image = test_images[image_index]\n",
        "\n",
        "# Reshape the image to match the input shape of the autoencoder\n",
        "input_image = np.reshape(input_image, (1, 28, 28, 1))\n",
        "\n",
        "# Pass the image through the autoencoder for reconstruction\n",
        "reconstructed_image = autoencoder.predict(input_image)\n",
        "\n",
        "# Reshape the reconstructed image to remove the batch dimension\n",
        "reconstructed_image = np.reshape(reconstructed_image, (28, 28))\n",
        "\n",
        "# Display the original noisy image and the reconstructed image\n",
        "plt.figure(figsize=(10, 5))\n",
        "plt.subplot(1, 2, 1)\n",
        "plt.imshow(input_image[0, :, :, 0], cmap='gray')\n",
        "plt.title('Noisy Image')\n",
        "plt.subplot(1, 2, 2)\n",
        "plt.imshow(reconstructed_image, cmap='gray')\n",
        "plt.title('Reconstructed Image')\n",
        "plt.show()\n"
      ],
      "metadata": {
        "colab": {
          "base_uri": "https://localhost:8080/",
          "height": 452
        },
        "id": "sY0I8n7aaMdF",
        "outputId": "8a45e52a-156f-492e-9a2b-3fbffea77c67"
      },
      "execution_count": null,
      "outputs": [
        {
          "output_type": "stream",
          "name": "stdout",
          "text": [
            "1/1 [==============================] - 0s 23ms/step\n"
          ]
        },
        {
          "output_type": "display_data",
          "data": {
            "text/plain": [
              "<Figure size 1000x500 with 2 Axes>"
            ],
            "image/png": "[encoded data removed]"
          },
          "metadata": {}
        }
      ]
    },
    {
      "cell_type": "code",
      "source": [
        "mse = np.mean(np.square(test_images - reconstructed_images))\n",
        "\n",
        "print(\"Mean Squared Error (MSE):\", mse)"
      ],
      "metadata": {
        "id": "m4U5pdDf1aF9"
      },
      "execution_count": null,
      "outputs": []
    },
    {
      "cell_type": "code",
      "source": [],
      "metadata": {
        "id": "7KbqmtVp1apd"
      },
      "execution_count": null,
      "outputs": []
    }
  ]
}